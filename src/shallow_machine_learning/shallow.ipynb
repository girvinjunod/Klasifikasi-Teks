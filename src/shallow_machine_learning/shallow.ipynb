{
 "cells": [
  {
   "cell_type": "code",
   "execution_count": 177,
   "metadata": {},
   "outputs": [],
   "source": [
    "import pandas as pd\n",
    "from sklearn import metrics\n",
    "from sklearn.feature_extraction.text import CountVectorizer\n",
    "from xgboost import XGBClassifier"
   ]
  },
  {
   "cell_type": "code",
   "execution_count": 178,
   "metadata": {},
   "outputs": [],
   "source": [
    "# Memakai XGBoost\n",
    "\n",
    "maps = {\"no\": 0, \"yes\": 1}  # mapping untuk label\n",
    "\n",
    "path = \"../../data_worthcheck/\"\n",
    "data_train = pd.read_csv(path + \"train.csv\")\n",
    "data_test = pd.read_csv(path + \"test.csv\")"
   ]
  },
  {
   "cell_type": "code",
   "execution_count": 179,
   "metadata": {},
   "outputs": [],
   "source": [
    "# Mengubah data menjadi vector space model\n",
    "vectorizer = CountVectorizer(\n",
    "    token_pattern=r\"[A-Za-z_][A-Za-z\\d_]*\", min_df=0.001)\n",
    "X_train = vectorizer.fit_transform(data_train.text_a).toarray()\n",
    "X_test = vectorizer.transform(data_test.text_a).toarray()"
   ]
  },
  {
   "cell_type": "code",
   "execution_count": 180,
   "metadata": {},
   "outputs": [],
   "source": [
    "# Mengambil data label\n",
    "y_train = data_train[\"label\"]\n",
    "y_test = data_test[\"label\"]\n",
    "\n",
    "# Mapping label\n",
    "y_train = y_train.replace(maps)\n",
    "y_test = y_test.replace(maps)"
   ]
  },
  {
   "cell_type": "code",
   "execution_count": 181,
   "metadata": {},
   "outputs": [],
   "source": [
    "# Model XGBoost Classifier\n",
    "model = XGBClassifier(\n",
    "    n_estimators=500,\n",
    "    tree_method=\"hist\",\n",
    "    subsample=0.5,\n",
    "    random_state=1,\n",
    "    eta=0.3,\n",
    ")"
   ]
  },
  {
   "cell_type": "code",
   "execution_count": 182,
   "metadata": {},
   "outputs": [
    {
     "data": {
      "text/plain": [
       "XGBClassifier(base_score=0.5, booster='gbtree', callbacks=None,\n",
       "              colsample_bylevel=1, colsample_bynode=1, colsample_bytree=1,\n",
       "              early_stopping_rounds=None, enable_categorical=False, eta=0.3,\n",
       "              eval_metric=None, gamma=0, gpu_id=-1, grow_policy='depthwise',\n",
       "              importance_type=None, interaction_constraints='',\n",
       "              learning_rate=0.300000012, max_bin=256, max_cat_to_onehot=4,\n",
       "              max_delta_step=0, max_depth=6, max_leaves=0, min_child_weight=1,\n",
       "              missing=nan, monotone_constraints='()', n_estimators=500,\n",
       "              n_jobs=0, num_parallel_tree=1, predictor='auto', random_state=1,\n",
       "              reg_alpha=0, ...)"
      ]
     },
     "execution_count": 182,
     "metadata": {},
     "output_type": "execute_result"
    }
   ],
   "source": [
    "# Fitting Model\n",
    "model.fit(X_train, y_train)"
   ]
  },
  {
   "cell_type": "code",
   "execution_count": 183,
   "metadata": {},
   "outputs": [],
   "source": [
    "# Prediksi untuk data test\n",
    "y_pred = model.predict(X_test)"
   ]
  },
  {
   "cell_type": "code",
   "execution_count": 184,
   "metadata": {},
   "outputs": [
    {
     "name": "stdout",
     "output_type": "stream",
     "text": [
      "Confusion Matrix:\n",
      "[[1918  175]\n",
      " [ 252  455]]\n",
      "Precision Score: 0.7222\n",
      "Recall Score: 0.6436\n",
      "F1 Score: 0.6806\n",
      "Accuracy Score: 0.8475\n"
     ]
    }
   ],
   "source": [
    "# Evaluasi Model\n",
    "print(\"Confusion Matrix:\")\n",
    "print(metrics.confusion_matrix(y_test, y_pred))\n",
    "prec = metrics.precision_score(y_test, y_pred)\n",
    "rec = metrics.recall_score(y_test, y_pred)\n",
    "f1 = metrics.f1_score(y_test, y_pred)\n",
    "acc = metrics.accuracy_score(y_test, y_pred)\n",
    "print(\"Precision Score: {:.4f}\".format(prec))\n",
    "print(\"Recall Score: {:.4f}\".format(rec))\n",
    "print(\"F1 Score: {:.4f}\".format(f1))\n",
    "print(\"Accuracy Score: {:.4f}\".format(acc))"
   ]
  }
 ],
 "metadata": {
  "kernelspec": {
   "display_name": "Python 3.10.7 64-bit (microsoft store)",
   "language": "python",
   "name": "python3"
  },
  "language_info": {
   "codemirror_mode": {
    "name": "ipython",
    "version": 3
   },
   "file_extension": ".py",
   "mimetype": "text/x-python",
   "name": "python",
   "nbconvert_exporter": "python",
   "pygments_lexer": "ipython3",
   "version": "3.10.7"
  },
  "orig_nbformat": 4,
  "vscode": {
   "interpreter": {
    "hash": "10ec05293f68055a54415913ba50b9acf7a20bb29ddc1aa257a1a0285b151877"
   }
  }
 },
 "nbformat": 4,
 "nbformat_minor": 2
}
