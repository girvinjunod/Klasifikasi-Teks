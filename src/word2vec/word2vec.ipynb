{
 "cells": [
  {
   "cell_type": "code",
   "execution_count": 44,
   "metadata": {},
   "outputs": [],
   "source": [
    "import pandas as pd\n",
    "import numpy as np\n",
    "import time\n",
    "from sklearn.neighbors import KNeighborsClassifier\n",
    "from sklearn.metrics import confusion_matrix, precision_score, recall_score, f1_score, accuracy_score\n",
    "from gensim.models import Word2Vec\n",
    "from gensim.utils import simple_preprocess"
   ]
  },
  {
   "cell_type": "code",
   "execution_count": 30,
   "metadata": {},
   "outputs": [],
   "source": [
    "# constants\n",
    "MAPS = {\"no\": 0, \"yes\": 1}\n",
    "MIN_COUNT = 1\n",
    "VECTOR_SIZE = 100\n",
    "WINDOW = 5\n",
    "SG = 1\n",
    "EPOCHS = 20\n",
    "N_NEIGHBORS = 20"
   ]
  },
  {
   "cell_type": "code",
   "execution_count": 13,
   "metadata": {},
   "outputs": [],
   "source": [
    "# read train data and test data + mapping label\n",
    "# vectorizer = CountVectorizer(token_pattern=TOKEN_PATTERN, min_df=MIN_DF)\n",
    "\n",
    "data_train = pd.read_csv(\"../../data_worthcheck/train.csv\")\n",
    "x_train = data_train['text_a'].apply(lambda x: simple_preprocess(x))\n",
    "y_train = data_train['label'].replace(MAPS)\n",
    "\n",
    "data_test = pd.read_csv(\"../../data_worthcheck/test.csv\")\n",
    "x_test = data_test['text_a'].apply(lambda x: simple_preprocess(x))\n",
    "y_test = data_test['label'].replace(MAPS)"
   ]
  },
  {
   "cell_type": "code",
   "execution_count": 51,
   "metadata": {},
   "outputs": [
    {
     "name": "stdout",
     "output_type": "stream",
     "text": [
      "elapsed time: 4.3232080936431885\n"
     ]
    }
   ],
   "source": [
    "# create word2vec model\n",
    "start = time.time()\n",
    "model_word2vec = Word2Vec(\n",
    "    x_train,\n",
    "    min_count=MIN_COUNT,\n",
    "    vector_size=VECTOR_SIZE,\n",
    "    window=WINDOW\n",
    ")\n",
    "end = time.time()\n",
    "print(\"elapsed time: {}\".format(end - start))"
   ]
  },
  {
   "cell_type": "code",
   "execution_count": 50,
   "metadata": {},
   "outputs": [
    {
     "name": "stdout",
     "output_type": "stream",
     "text": [
      "elapsed time: 8.417657613754272\n"
     ]
    }
   ],
   "source": [
    "# create skip-gram model\n",
    "start = time.time()\n",
    "model_skipgram = Word2Vec(\n",
    "    x_train,\n",
    "    min_count=MIN_COUNT,\n",
    "    vector_size=VECTOR_SIZE,\n",
    "    window=WINDOW,\n",
    "    sg=SG\n",
    ")\n",
    "end = time.time()\n",
    "print(\"elapsed time: {}\".format(end - start))"
   ]
  },
  {
   "cell_type": "code",
   "execution_count": 53,
   "metadata": {},
   "outputs": [
    {
     "name": "stdout",
     "output_type": "stream",
     "text": [
      "elapsed time: 9.490114688873291\n"
     ]
    }
   ],
   "source": [
    "# training models\n",
    "start = time.time()\n",
    "model_word2vec.train(x_train, total_examples=len(x_train), epochs=EPOCHS) # CBOW\n",
    "end = time.time()\n",
    "print(\"elapsed time: {}\".format(end - start))"
   ]
  },
  {
   "cell_type": "code",
   "execution_count": 52,
   "metadata": {},
   "outputs": [
    {
     "name": "stdout",
     "output_type": "stream",
     "text": [
      "elapsed time: 30.377943515777588\n"
     ]
    }
   ],
   "source": [
    "start = time.time()\n",
    "model_skipgram.train(x_train, total_examples=len(x_train), epochs=EPOCHS)\n",
    "end = time.time()\n",
    "print(\"elapsed time: {}\".format(end - start))"
   ]
  },
  {
   "cell_type": "code",
   "execution_count": 35,
   "metadata": {},
   "outputs": [],
   "source": [
    "# predict with word2vec model\n",
    "x_train_word2vec = np.array([np.mean([model_word2vec.wv[word] for word in words if word in model_word2vec.wv.key_to_index] or [np.zeros(VECTOR_SIZE)], axis=0) for words in x_train])\n",
    "x_test_word2vec = np.array([np.mean([model_word2vec.wv[word] for word in words if word in model_word2vec.wv.key_to_index] or [np.zeros(VECTOR_SIZE)], axis=0) for words in x_test])\n",
    "\n",
    "# predict with skip-gram model\n",
    "x_train_skipgram = np.array([np.mean([model_skipgram.wv[word] for word in words if word in model_skipgram.wv.key_to_index] or [np.zeros(VECTOR_SIZE)], axis=0) for words in x_train])\n",
    "x_test_skipgram = np.array([np.mean([model_skipgram.wv[word] for word in words if word in model_skipgram.wv.key_to_index] or [np.zeros(VECTOR_SIZE)], axis=0) for words in x_test])"
   ]
  },
  {
   "cell_type": "code",
   "execution_count": 38,
   "metadata": {},
   "outputs": [
    {
     "name": "stdout",
     "output_type": "stream",
     "text": [
      "Word2Vec\n",
      "[[1958  135]\n",
      " [ 351  356]]\n",
      "Precision: 0.7251\n",
      "Recall: 0.5035\n",
      "F1 Score: 0.5943\n",
      "Accuracy: 0.8264\n",
      "\n",
      "Skip-gram\n",
      "[[1917  176]\n",
      " [ 247  460]]\n",
      "Precision: 0.7233\n",
      "Recall: 0.6506\n",
      "F1 Score: 0.6850\n",
      "Accuracy: 0.8489\n"
     ]
    }
   ],
   "source": [
    "# create KNN model\n",
    "knn = KNeighborsClassifier(n_neighbors=N_NEIGHBORS)\n",
    "\n",
    "# training KNN model\n",
    "knn_word2vec = knn.fit(x_train_word2vec, y_train)\n",
    "knn_skipgram = knn.fit(x_train_skipgram, y_train)\n",
    "\n",
    "# predict with KNN model\n",
    "y_pred_word2vec = knn_word2vec.predict(x_test_word2vec)\n",
    "y_pred_skipgram = knn_skipgram.predict(x_test_skipgram)\n",
    "\n",
    "# evaluate model\n",
    "precision = precision_score(y_test, y_pred_word2vec)\n",
    "recall = recall_score(y_test, y_pred_word2vec)\n",
    "f1 = f1_score(y_test, y_pred_word2vec)\n",
    "accuracy = accuracy_score(y_test, y_pred_word2vec)\n",
    "\n",
    "print(\"Word2Vec\")\n",
    "print(confusion_matrix(y_test, y_pred_word2vec))\n",
    "print('''Precision: {:.4f}\n",
    "Recall: {:.4f}\n",
    "F1 Score: {:.4f}\n",
    "Accuracy: {:.4f}\\n'''.format(\n",
    "    precision, recall, f1, accuracy))\n",
    "\n",
    "precision = precision_score(y_test, y_pred_skipgram)\n",
    "recall = recall_score(y_test, y_pred_skipgram)\n",
    "f1 = f1_score(y_test, y_pred_skipgram)\n",
    "accuracy = accuracy_score(y_test, y_pred_skipgram)\n",
    "\n",
    "print(\"Skip-gram\")\n",
    "print(confusion_matrix(y_test, y_pred_skipgram))\n",
    "print('''Precision: {:.4f}\n",
    "Recall: {:.4f}\n",
    "F1 Score: {:.4f}\n",
    "Accuracy: {:.4f}'''.format(\n",
    "    precision, recall, f1, accuracy))"
   ]
  }
 ],
 "metadata": {
  "kernelspec": {
   "display_name": "Python 3.9.4 64-bit",
   "language": "python",
   "name": "python3"
  },
  "language_info": {
   "codemirror_mode": {
    "name": "ipython",
    "version": 3
   },
   "file_extension": ".py",
   "mimetype": "text/x-python",
   "name": "python",
   "nbconvert_exporter": "python",
   "pygments_lexer": "ipython3",
   "version": "3.9.4"
  },
  "orig_nbformat": 4,
  "vscode": {
   "interpreter": {
    "hash": "c25269a4018224bb4e3cb6b79397037e31419b0dedc1b97e47175df2e08dbf7b"
   }
  }
 },
 "nbformat": 4,
 "nbformat_minor": 2
}
