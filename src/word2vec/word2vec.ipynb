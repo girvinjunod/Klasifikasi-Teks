{
 "cells": [
  {
   "cell_type": "code",
   "execution_count": 172,
   "metadata": {},
   "outputs": [],
   "source": [
    "import pandas as pd\n",
    "import numpy as np\n",
    "from sklearn.neighbors import KNeighborsClassifier\n",
    "from sklearn.metrics import confusion_matrix, precision_score, recall_score, f1_score, accuracy_score\n",
    "from gensim.models import Word2Vec\n",
    "from gensim.utils import simple_preprocess"
   ]
  },
  {
   "cell_type": "code",
   "execution_count": 173,
   "metadata": {},
   "outputs": [],
   "source": [
    "# constants\n",
    "MAPS = {\"no\": 0, \"yes\": 1}\n",
    "MIN_COUNT = 1\n",
    "VECTOR_SIZE = 100\n",
    "WINDOW = 5\n",
    "SG = 1\n",
    "EPOCHS = 20\n",
    "N_NEIGHBORS = 20"
   ]
  },
  {
   "cell_type": "code",
   "execution_count": 174,
   "metadata": {},
   "outputs": [],
   "source": [
    "# read train data and test data\n",
    "data_train = pd.read_csv(\"data_worthcheck/train.csv\")\n",
    "data_test = pd.read_csv(\"data_worthcheck/test.csv\")"
   ]
  },
  {
   "cell_type": "code",
   "execution_count": 175,
   "metadata": {},
   "outputs": [],
   "source": [
    "# read train data and test data + mapping label\n",
    "# vectorizer = CountVectorizer(token_pattern=TOKEN_PATTERN, min_df=MIN_DF)\n",
    "\n",
    "data_train = pd.read_csv(\"data_worthcheck/train.csv\")\n",
    "x_train = data_train['text_a'].apply(lambda x: simple_preprocess(x))\n",
    "y_train = data_train['label'].replace(MAPS)\n",
    "\n",
    "data_test = pd.read_csv(\"data_worthcheck/test.csv\")\n",
    "x_test = data_test['text_a'].apply(lambda x: simple_preprocess(x))\n",
    "y_test = data_test['label'].replace(MAPS)"
   ]
  },
  {
   "cell_type": "code",
   "execution_count": 176,
   "metadata": {},
   "outputs": [],
   "source": [
    "# create word2vec model\n",
    "model_word2vec = Word2Vec(\n",
    "    x_train,\n",
    "    min_count=MIN_COUNT,\n",
    "    vector_size=VECTOR_SIZE,\n",
    "    window=WINDOW\n",
    ")"
   ]
  },
  {
   "cell_type": "code",
   "execution_count": 177,
   "metadata": {},
   "outputs": [],
   "source": [
    "# create skip-gram model\n",
    "model_skipgram = Word2Vec(\n",
    "    x_train,\n",
    "    min_count=MIN_COUNT,\n",
    "    vector_size=VECTOR_SIZE,\n",
    "    window=WINDOW,\n",
    "    sg=SG\n",
    ")"
   ]
  },
  {
   "cell_type": "code",
   "execution_count": 178,
   "metadata": {},
   "outputs": [
    {
     "data": {
      "text/plain": [
       "(5835008, 6420240)"
      ]
     },
     "execution_count": 178,
     "metadata": {},
     "output_type": "execute_result"
    }
   ],
   "source": [
    "# training models\n",
    "model_word2vec.train(x_train, total_examples=len(x_train), epochs=EPOCHS) # CBOW\n",
    "model_skipgram.train(x_train, total_examples=len(x_train), epochs=EPOCHS)"
   ]
  },
  {
   "cell_type": "code",
   "execution_count": 171,
   "metadata": {},
   "outputs": [
    {
     "name": "stdout",
     "output_type": "stream",
     "text": [
      "Word2Vec\n",
      "[[1898  195]\n",
      " [ 284  423]]\n",
      "Precision: 0.6845\n",
      "Recall: 0.5983\n",
      "F1 Score: 0.6385\n",
      "Accuracy: 0.8289\n",
      "\n",
      "Skip-gram\n",
      "[[1929  164]\n",
      " [ 258  449]]\n",
      "Precision: 0.7325\n",
      "Recall: 0.6351\n",
      "F1 Score: 0.6803\n",
      "Accuracy: 0.8493\n"
     ]
    }
   ],
   "source": [
    "# predict with word2vec model\n",
    "x_train_word2vec = np.array([np.mean([model_word2vec.wv[word] for word in words if word in model_word2vec.wv.key_to_index] or [np.zeros(VECTOR_SIZE)], axis=0) for words in x_train])\n",
    "x_test_word2vec = np.array([np.mean([model_word2vec.wv[word] for word in words if word in model_word2vec.wv.key_to_index] or [np.zeros(VECTOR_SIZE)], axis=0) for words in x_test])\n",
    "\n",
    "# predict with skip-gram model\n",
    "x_train_skipgram = np.array([np.mean([model_skipgram.wv[word] for word in words if word in model_skipgram.wv.key_to_index] or [np.zeros(VECTOR_SIZE)], axis=0) for words in x_train])\n",
    "x_test_skipgram = np.array([np.mean([model_skipgram.wv[word] for word in words if word in model_skipgram.wv.key_to_index] or [np.zeros(VECTOR_SIZE)], axis=0) for words in x_test])\n",
    "\n",
    "# create KNN model\n",
    "knn = KNeighborsClassifier(n_neighbors=N_NEIGHBORS)\n",
    "\n",
    "# training KNN model\n",
    "knn_word2vec = knn.fit(x_train_word2vec, y_train)\n",
    "knn_skipgram= knn.fit(x_train_skipgram, y_train)\n",
    "\n",
    "# predict with KNN model\n",
    "y_pred_word2vec = knn_word2vec.predict(x_test_word2vec)\n",
    "y_pred_skipgram = knn_skipgram.predict(x_test_skipgram)\n",
    "\n",
    "# evaluate model\n",
    "precision = precision_score(y_test, y_pred_word2vec)\n",
    "recall = recall_score(y_test, y_pred_word2vec)\n",
    "f1 = f1_score(y_test, y_pred_word2vec)\n",
    "accuracy = accuracy_score(y_test, y_pred_word2vec)\n",
    "\n",
    "print(\"Word2Vec\")\n",
    "print(confusion_matrix(y_test, y_pred_word2vec))\n",
    "print('''Precision: {:.4f}\n",
    "Recall: {:.4f}\n",
    "F1 Score: {:.4f}\n",
    "Accuracy: {:.4f}\\n'''.format(\n",
    "    precision, recall, f1, accuracy))\n",
    "\n",
    "precision = precision_score(y_test, y_pred_skipgram)\n",
    "recall = recall_score(y_test, y_pred_skipgram)\n",
    "f1 = f1_score(y_test, y_pred_skipgram)\n",
    "accuracy = accuracy_score(y_test, y_pred_skipgram)\n",
    "\n",
    "print(\"Skip-gram\")\n",
    "print(confusion_matrix(y_test, y_pred_skipgram))\n",
    "print('''Precision: {:.4f}\n",
    "Recall: {:.4f}\n",
    "F1 Score: {:.4f}\n",
    "Accuracy: {:.4f}'''.format(\n",
    "    precision, recall, f1, accuracy))"
   ]
  }
 ],
 "metadata": {
  "kernelspec": {
   "display_name": "Python 3.9.4 64-bit",
   "language": "python",
   "name": "python3"
  },
  "language_info": {
   "codemirror_mode": {
    "name": "ipython",
    "version": 3
   },
   "file_extension": ".py",
   "mimetype": "text/x-python",
   "name": "python",
   "nbconvert_exporter": "python",
   "pygments_lexer": "ipython3",
   "version": "3.9.4"
  },
  "orig_nbformat": 4,
  "vscode": {
   "interpreter": {
    "hash": "c25269a4018224bb4e3cb6b79397037e31419b0dedc1b97e47175df2e08dbf7b"
   }
  }
 },
 "nbformat": 4,
 "nbformat_minor": 2
}
