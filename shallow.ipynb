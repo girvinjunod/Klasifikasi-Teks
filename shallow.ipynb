{
  "cells": [
    {
      "cell_type": "markdown",
      "metadata": {
        "id": "FW8Ud1eeN-Sa"
      },
      "source": [
        "# Setup"
      ]
    },
    {
      "cell_type": "code",
      "execution_count": 1,
      "metadata": {
        "id": "sbI3_pkVN_0y"
      },
      "outputs": [],
      "source": [
        "from sklearn.model_selection import train_test_split\n",
        "from sklearn.metrics import accuracy_score\n",
        "from sklearn.feature_extraction.text import CountVectorizer\n",
        "from xgboost import XGBClassifier\n",
        "import pandas as pd"
      ]
    },
    {
      "cell_type": "code",
      "execution_count": 2,
      "metadata": {
        "id": "Ki_oTBu6PMwc"
      },
      "outputs": [],
      "source": [
        "path = 'data_worthcheck/'\n",
        "data_train = pd.read_csv(path+'train.csv')\n",
        "data_val = pd.read_csv(path+'dev.csv')\n",
        "data_test = pd.read_csv(path+'test.csv')"
      ]
    },
    {
      "cell_type": "markdown",
      "metadata": {
        "id": "aipbcNIKVQAP"
      },
      "source": [
        "# Shallow Machine Learning"
      ]
    },
    {
      "cell_type": "code",
      "execution_count": 3,
      "metadata": {
        "id": "zuXmypSARwcr"
      },
      "outputs": [],
      "source": [
        "vectorizer = CountVectorizer(token_pattern = \"[A-Za-z_][A-Za-z\\d_]*\")\n",
        "X_train = vectorizer.fit_transform(data_train.text_a).toarray()\n",
        "y_train = data_train['label']\n",
        "    "
      ]
    },
    {
      "cell_type": "markdown",
      "metadata": {
        "id": "KAxq6HU5AzJc"
      },
      "source": []
    }
  ],
  "metadata": {
    "colab": {
      "collapsed_sections": [],
      "provenance": []
    },
    "kernelspec": {
      "display_name": "Python 3.8.10 64-bit",
      "language": "python",
      "name": "python3"
    },
    "language_info": {
      "codemirror_mode": {
        "name": "ipython",
        "version": 3
      },
      "file_extension": ".py",
      "mimetype": "text/x-python",
      "name": "python",
      "nbconvert_exporter": "python",
      "pygments_lexer": "ipython3",
      "version": "3.8.10"
    },
    "vscode": {
      "interpreter": {
        "hash": "916dbcbb3f70747c44a77c7bcd40155683ae19c65e1c03b4aa3499c5328201f1"
      }
    }
  },
  "nbformat": 4,
  "nbformat_minor": 0
}
